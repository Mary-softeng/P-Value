{
 "cells": [
  {
   "cell_type": "markdown",
   "metadata": {
    "id": "9aiC1Pw8PUOK"
   },
   "source": [
    "# Python Programming: P-values Exercise"
   ]
  },
  {
   "cell_type": "markdown",
   "metadata": {
    "id": "6mM9tSmjPe_z"
   },
   "source": [
    "## Question 1"
   ]
  },
  {
   "cell_type": "markdown",
   "metadata": {
    "id": "TvPSIOCVP7h_"
   },
   "source": [
    "The Ministry of Roads and Transportation requires tire manufacturers to provide performance information on tire sidewalls to help prospective buyers make their purchasing decisions. One very important piece of information is the tread wear index, which indicates the tire’s resistance to tread wear. A tire with a grade of 200 should last twice as long, on average, as a tire with a grade of 100.\n",
    "A consumer organization wants to test the actual tread wear index of a brand name of tires that claims “graded 200” on the sidewall of the tire. A random sample of n = 18 indicates a sample mean tread wear index of 195.3 and a sample standard devia- tion of 21.4.\n",
    "\n",
    "1.   Is there evidence that the population mean tread wear index is different from 200? (Use a 0.05 level of significance.)\n",
    "2.   Determine the p-value and interpret its meaning.\n"
   ]
  },
  {
   "cell_type": "code",
   "execution_count": null,
   "metadata": {
    "colab": {
     "base_uri": "https://localhost:8080/"
    },
    "id": "omsXxkudSB6z",
    "outputId": "16ff79c5-613c-400c-c1ab-cffca4948066"
   },
   "outputs": [
    {
     "name": "stdout",
     "output_type": "stream",
     "text": [
      "The t statitics is -0.9317949172645136 and the probility of observing this statistsic is 0.3644878455621575\n",
      "\n",
      "Null hypothesis is not rejected\n",
      "There is not enough evidence that the population mean tread wear index is different from 200\n",
      "\n"
     ]
    }
   ],
   "source": [
    "# t Test for Hypothesis of the Mean\n",
    "#Importing math library\n",
    "import math\n",
    "\n",
    "# Importing scipy stats library\n",
    "import scipy.stats as stats\n",
    "\n",
    "# importing norm from scipy stats\n",
    "from scipy.stats import norm\n",
    "\n",
    "# Importing numpy\n",
    "import numpy as np\n",
    "\n",
    "# Specifying the variables \n",
    "population_mean = 200\n",
    "sample_mean = 195.3\n",
    "alpha = 0.025\n",
    "sample_size = 18\n",
    "sd = 21.4\n",
    "\n",
    "# Calculating t statistic\n",
    "t_stats = (sample_mean - population_mean) / (sd / math.sqrt(18))\n",
    "t_stats\n",
    "\n",
    "# Calculating p value\n",
    "prob = stats.t.sf(abs(t_stats), df=sample_size-1)*2\n",
    "prob\n",
    "\n",
    "# printing result\n",
    "print (f'The t statitics is {t_stats} and the probility of observing this statistsic is {prob}')\n",
    "print('''\n",
    "Null hypothesis is not rejected\n",
    "There is not enough evidence that the population mean tread wear index is different from 200\n",
    "''')"
   ]
  },
  {
   "cell_type": "markdown",
   "metadata": {
    "id": "jlqL6p97a1ze"
   },
   "source": [
    "**Example** Mean GPA In our example concerning the mean grade point average, suppose that our random sample of n = 15 students majoring in mathematics yields a test statistic t* equaling 2.5. Since n = 15, our test statistic t* has n - 1 = 14 degrees of freedom. Also, suppose we set our significance level α at 0.05, so that we have only a 5% chance of making a Type I error.\n",
    "\n",
    "Right Tailed The P-value for conducting the right-tailed test H0 : μ = 3 versus HA : μ > 3 is the probability that we would observe a test statistic greater than t* = 2.5 if the population mean really were 3. Recall that probability equals the area under the probability curve. The P-value is therefore the area under a tn - 1 = t14 curve and to the right of the test statistic t* = 2.5. It can be shown using statistical software that the P-value is 0.0127. The graph depicts this visually."
   ]
  },
  {
   "cell_type": "markdown",
   "metadata": {
    "id": "GBzjNgPqPkUQ"
   },
   "source": [
    "## Question 2"
   ]
  },
  {
   "cell_type": "markdown",
   "metadata": {
    "id": "6su2PWYPSwaB"
   },
   "source": [
    "The following data represents the amount of soft drink filled in a sample of 50 consecutive 2-liter bottles. The results, listed horizontally in the order of being filled, were:\n",
    "\n",
    "2.109 2.086 2.036 2.038 2.015 2.014 2.005 2.003 1.984 1.981 1.963 1.957 1.908 1.894\n",
    "2.066 2.075 2.031 2.029 2.013 2.014 1.999 1.996 1.973 1.975 1.951 1.951\n",
    "2.065 2.057 2.025 2.029 2.012 2.012 1.997 1.992 1.971 1.969 1.947 1.941\n",
    "2.052 2.044 2.023 2.020 2.012 2.010 1.994 1.986 1.966 1.967 1.941 1.938\n",
    "\n",
    "1. At the 0.05 level of significance, is there evidence that the mean amount of soft drink filled is different from 2.0 liters?\n",
    "2. Determine the p-value in (1) and interpret its meaning. \n",
    "3. In (1), you assumed that the distribution of the amount of soft drink filled was normally distributed. Evaluate this assumption by constructing a boxplot or a normal probability plot.\n",
    "4. Do you think that the assumption needed in order to conduct the t test in (1) is valid? Explain.\n",
    "5. Examine the values of the 50 bottles in their sequential order, as given in the problem. Does there appear to be a pattern to the results? If so, what impact might this pattern have on the validity of the results in (1)?"
   ]
  },
  {
   "cell_type": "code",
   "execution_count": null,
   "metadata": {
    "colab": {
     "base_uri": "https://localhost:8080/"
    },
    "id": "fgiqIWaSPmNg",
    "outputId": "346623f8-156c-46d9-9143-5e2f8259b861"
   },
   "outputs": [
    {
     "name": "stdout",
     "output_type": "stream",
     "text": [
      "The t statitics is 0.11540472381096377 and the probility of observing this statistsic is 0.9085959786412035\n",
      "\n",
      "Null hypothesis is not rejected\n",
      "There is not enough that the mean amount of soft drink filled is different from 2.0 liters\n",
      "\n"
     ]
    }
   ],
   "source": [
    "# calculate mean of sample \n",
    "soda_list = [2.109, 2.086, 2.036, 2.038, 2.015, 2.014, 2.005, 2.003, 1.984, 1.981, 1.963, 1.957, 1.908, 1.894, 2.066, 2.075, 2.031, \n",
    "             2.029, 2.013, 2.014, 1.999, 1.996, 1.973, 1.975, 1.951, 1.951, 2.065, 2.057, 2.025, 2.029, 2.012, 2.012, 1.997, \n",
    "             1.992, 1.971, 1.969, 1.947, 1.941, 2.052, 2.044, 2.023, 2.020, 2.012, 2.010, 1.994, 1.986, 1.966, 1.967, 1.941, 1.938]\n",
    "# Mean of soda samples\n",
    "average_soda = sum(soda_list) / len(soda_list)\n",
    "\n",
    "# standard deviation of soda samples\n",
    "Sd_soda = np.std(soda_list)\n",
    "# Specifying the variables \n",
    "population_mean = 2.0\n",
    "sample_mean = average_soda\n",
    "alpha = 0.025\n",
    "sample_size = 50\n",
    "sd = Sd_soda \n",
    "\n",
    "# Calculating t statistic\n",
    "t_stats = (sample_mean - population_mean) / (sd / math.sqrt(sample_size))\n",
    "t_stats\n",
    "\n",
    "# Calculating p value\n",
    "prob = stats.t.sf(abs(t_stats), df=sample_size-1)*2\n",
    "prob\n",
    "\n",
    "# printing result\n",
    "print (f'The t statitics is {t_stats} and the probility of observing this statistsic is {prob}')\n",
    "print('''\n",
    "Null hypothesis is not rejected\n",
    "There is not enough that the mean amount of soft drink filled is different from 2.0 liters\n",
    "''')"
   ]
  },
  {
   "cell_type": "code",
   "execution_count": null,
   "metadata": {
    "colab": {
     "base_uri": "https://localhost:8080/"
    },
    "id": "X4YT05D3bNX8",
    "outputId": "eb52e50e-8e21-40bf-be65-d112830f39ee"
   },
   "outputs": [
    {
     "data": {
      "text/plain": [
       "Ttest_1sampResult(statistic=0.11424484790277033, pvalue=0.9095105442498366)"
      ]
     },
     "execution_count": 3,
     "metadata": {},
     "output_type": "execute_result"
    }
   ],
   "source": [
    "# determining t_statistic and p_value\n",
    "stats.ttest_1samp(soda_list, 2.0)"
   ]
  },
  {
   "cell_type": "code",
   "execution_count": null,
   "metadata": {
    "colab": {
     "base_uri": "https://localhost:8080/"
    },
    "id": "OiGzzl6cqThV",
    "outputId": "3d067fdb-98ec-4638-c21e-f2ecad47c0a0"
   },
   "outputs": [
    {
     "data": {
      "image/png": "[encoded data removed]",
      "text/plain": [
       "<Figure size 432x288 with 1 Axes>"
      ]
     },
     "metadata": {
      "needs_background": "light"
     },
     "output_type": "display_data"
    }
   ],
   "source": [
    "import matplotlib.pyplot as plt\n",
    "  \n",
    "# Generating some random data\n",
    "# for an example\n",
    "\n",
    "  \n",
    "# Plotting the histogram.\n",
    "plt.hist(soda_list, bins=10, density=True, alpha=0.6, color='b')\n",
    "mn, mx = plt.xlim()\n",
    "plt.xlim(mn, mx)\n",
    "kde_xs = np.linspace(mn, mx, 300)\n",
    "\n",
    "kde = stats.gaussian_kde(soda_list)\n",
    "# Generating a Kernel Density Estimate plot using Gaussian kernels.\n",
    "plt.plot(kde_xs, kde.pdf(kde_xs), label=\"PDF\")\n",
    "# Placing a legend on the axes\n",
    "plt.legend(loc=\"upper left\")\n",
    "plt.ylabel(\"Probability\")\n",
    "plt.xlabel(\"Data\")\n",
    "plt.title(\"Histogram\");  \n",
    "plt.show()"
   ]
  },
  {
   "cell_type": "markdown",
   "metadata": {
    "id": "vbkmMgaZqb0d"
   },
   "source": [
    "The sample follows a normal distribution"
   ]
  },
  {
   "cell_type": "markdown",
   "metadata": {
    "id": "EYSawhTZqdq0"
   },
   "source": [
    "Yes you need to assume normality\n",
    "You need the data to be normal to guarantee that your p-values are accurate with your given sample size.\n",
    "If the data is not normal, the sample size may be adequate, but it may not and it may be difficult for you to know which is true."
   ]
  },
  {
   "cell_type": "code",
   "execution_count": null,
   "metadata": {
    "colab": {
     "base_uri": "https://localhost:8080/"
    },
    "id": "94uRS6yYqrhM",
    "outputId": "61dc56e7-63c6-4a08-c954-7ba26319761c"
   },
   "outputs": [
    {
     "data": {
      "text/plain": [
       "[1.894,\n",
       " 1.908,\n",
       " 1.938,\n",
       " 1.941,\n",
       " 1.941,\n",
       " 1.947,\n",
       " 1.951,\n",
       " 1.951,\n",
       " 1.957,\n",
       " 1.963,\n",
       " 1.966,\n",
       " 1.967,\n",
       " 1.969,\n",
       " 1.971,\n",
       " 1.973,\n",
       " 1.975,\n",
       " 1.981,\n",
       " 1.984,\n",
       " 1.986,\n",
       " 1.992,\n",
       " 1.994,\n",
       " 1.996,\n",
       " 1.997,\n",
       " 1.999,\n",
       " 2.003,\n",
       " 2.005,\n",
       " 2.01,\n",
       " 2.012,\n",
       " 2.012,\n",
       " 2.012,\n",
       " 2.013,\n",
       " 2.014,\n",
       " 2.014,\n",
       " 2.015,\n",
       " 2.02,\n",
       " 2.023,\n",
       " 2.025,\n",
       " 2.029,\n",
       " 2.029,\n",
       " 2.031,\n",
       " 2.036,\n",
       " 2.038,\n",
       " 2.044,\n",
       " 2.052,\n",
       " 2.057,\n",
       " 2.065,\n",
       " 2.066,\n",
       " 2.075,\n",
       " 2.086,\n",
       " 2.109]"
      ]
     },
     "execution_count": 5,
     "metadata": {},
     "output_type": "execute_result"
    }
   ],
   "source": [
    "soda_list.sort()\n",
    "soda_list"
   ]
  },
  {
   "cell_type": "markdown",
   "metadata": {
    "id": "0MlbMO7mPoO8"
   },
   "source": [
    "## Question 3"
   ]
  },
  {
   "cell_type": "markdown",
   "metadata": {
    "id": "awqKcADiUdyT"
   },
   "source": [
    "The population mean waiting time to check out of a supermarket has been 4 minutes. recently, in an effort to reduce the waiting time, the supermarket has experimented with a system in which infrared cameras use body heat and in-store software to determine how many lanes should be opened. A sample of 100 customers was selected, and their mean waiting time to check out was 3.25 minutes, with a sample standard deviation of 2.7 minutes.\n",
    "\n",
    "1. At the 0.05 level of significance, using the p-value approach to hypothesis testing, is there evidence that the population mean waiting time to check out is less than 4 minutes?\n",
    "2. Interpret the meaning of the p-value in this problem.  "
   ]
  },
  {
   "cell_type": "code",
   "execution_count": null,
   "metadata": {
    "colab": {
     "base_uri": "https://localhost:8080/"
    },
    "id": "86VoKwOMPrH1",
    "outputId": "ff6ab653-9e53-4bfb-f376-c4c7b49b0b16"
   },
   "outputs": [
    {
     "data": {
      "text/plain": [
       "0.006548096898255602"
      ]
     },
     "execution_count": 6,
     "metadata": {},
     "output_type": "execute_result"
    }
   ],
   "source": [
    "# Specifying the variables \n",
    "population_mean = 4.0\n",
    "sample_mean = 3.25\n",
    "alpha = 0.05\n",
    "sample_size = 100\n",
    "sd = 2.7 \n",
    "\n",
    "# Calculating t statistic\n",
    "t_stats = (sample_mean - population_mean) / (sd / math.sqrt(sample_size))\n",
    "t_stats\n",
    "\n",
    "# Calculating p value\n",
    "prob = stats.t.sf(abs(t_stats), df=sample_size-1)*2\n",
    "prob"
   ]
  },
  {
   "cell_type": "markdown",
   "metadata": {
    "id": "4D5LDHa0q4ja"
   },
   "source": [
    "P value Interpretation\n",
    "\n",
    "The p value is less than significance level\n",
    "Means the p value is significant\n",
    "This implies that there is sufficient evidence that the population mean waiting time to check out is less than 4 minutes"
   ]
  },
  {
   "cell_type": "markdown",
   "metadata": {
    "id": "yGGq-E5IPrqz"
   },
   "source": [
    "## Question 4"
   ]
  },
  {
   "cell_type": "markdown",
   "metadata": {
    "id": "yFU6w1bNVRhO"
   },
   "source": [
    "A survey of nonprofit organizations showed that online fun- draising has increased in the past year. Based on a random sample of 55 nonprofit organizations, the mean one-time gift donation in the past year was Ksh. 750, with a standard deviation of Ksh. 900.\n",
    "\n",
    "1. If you test the null hypothesis at the 0.01 level of significance, is there evidence that the mean one-time gift donation is greater than Ksh. 700?\n",
    "2. Interpret the meaning of the p-value in this problem."
   ]
  },
  {
   "cell_type": "code",
   "execution_count": null,
   "metadata": {
    "colab": {
     "base_uri": "https://localhost:8080/"
    },
    "id": "LPRpuQe1PtI0",
    "outputId": "8b8788d8-3b6f-47d4-afaf-3e37ca3ddb2e"
   },
   "outputs": [
    {
     "data": {
      "text/plain": [
       "0.6819623261445604"
      ]
     },
     "execution_count": 7,
     "metadata": {},
     "output_type": "execute_result"
    }
   ],
   "source": [
    "# Specifying the variables \n",
    "population_mean = 700\n",
    "sample_mean = 750\n",
    "alpha = 0.01\n",
    "sample_size = 55\n",
    "sd = 900\n",
    "\n",
    "# Calculating t statistic\n",
    "t_stats = (sample_mean - population_mean) / (sd / math.sqrt(sample_size))\n",
    "t_stats\n",
    "\n",
    "# Calculating p value\n",
    "prob = stats.t.sf(abs(t_stats), df=sample_size-1)*2\n",
    "prob"
   ]
  },
  {
   "cell_type": "markdown",
   "metadata": {
    "id": "eELcFSbkrJwZ"
   },
   "source": [
    "Intepret p value\n",
    "\n",
    "The p value is greater than the the significance level\n",
    "The result is not significant\n",
    "There is not sufficient evidence that the mean one-time gift donation is greater than Ksh. 700"
   ]
  },
  {
   "cell_type": "markdown",
   "metadata": {
    "id": "pI5iuOyWPtiy"
   },
   "source": [
    "## Question 5"
   ]
  },
  {
   "cell_type": "markdown",
   "metadata": {
    "id": "1llPF-60lCVw"
   },
   "source": [
    "A problem with a phone line that prevents a customer from receiving or making calls is upsetting to both the customer and the telecommunications company. The file Phone contains samples of 20 problems reported to two different offices of a telecommuni- cations company and the time to clear these problems (in minutes) from the customers’ lines:\n",
    "\n",
    "Central Office I Time to Clear Problems (minutes)\n",
    "1.48 1.75 0.78 2.85 0.52 1.60 4.15 3.97 1.48 3.10 1.02 0.53 0.93 1.60 0.80 1.05 6.32 3.93 5.45 0.97\n",
    "\n",
    "Central Office II Time to Clear Problems (minutes)\n",
    "7.55 3.75 0.10 1.10 0.60 0.52 3.30 2.10 0.58 4.02 3.75 0.65 1.92 0.60 1.53 4.23 0.08 1.48 1.65 0.72\n",
    "\n",
    "1. Assuming that the population variances from both offices are equal, is there evidence of a difference in the mean waiting time between the two offices? (Use a = 0.05.)\n",
    "2. Find the p-value in (1) and interpret its meaning.\n",
    "3. What other assumption is necessary in (1)?\n",
    "4. Assuming that the population variances from both offices are equal, construct and interpret a 95% confidence interval estimate of the difference between the population means in the two offices."
   ]
  },
  {
   "cell_type": "code",
   "execution_count": null,
   "metadata": {
    "colab": {
     "base_uri": "https://localhost:8080/"
    },
    "id": "-zGKBL30Pvii",
    "outputId": "4e48fdd8-a2b0-47cd-b7a7-97a2cf12338a"
   },
   "outputs": [
    {
     "name": "stdout",
     "output_type": "stream",
     "text": [
      "The t statistic is 0.3543859926935721, and p_value is 0.7250087342342335\n"
     ]
    }
   ],
   "source": [
    "sample1 = '1.48 1.75 0.78 2.85 0.52 1.60 4.15 3.97 1.48 3.10 1.02 0.53 0.93 1.60 0.80 1.05 6.32 3.93 5.45 0.97'\n",
    "sample2 = '7.55 3.75 0.10 1.10 0.60 0.52 3.30 2.10 0.58 4.02 3.75 0.65 1.92 0.60 1.53 4.23 0.08 1.48 1.65 0.72'\n",
    "sample1 = [sample1[i:i+5] for i in range(0, len(sample1), 5)]\n",
    "sample1 = [float(x) for x in sample1]\n",
    "sample2 = [sample2[i:i+5] for i in range(0, len(sample2), 5)]\n",
    "sample2 = [float(x) for x in sample2]\n",
    "sample2 = list(np.float_(sample2))\n",
    "\n",
    "# t_statistic and p_value\n",
    "t_statistic, p_value = stats.ttest_ind(sample1, sample2)\n",
    "\n",
    "print(f'The t statistic is {t_statistic}, and p_value is {p_value}')"
   ]
  },
  {
   "cell_type": "code",
   "execution_count": null,
   "metadata": {
    "colab": {
     "base_uri": "https://localhost:8080/"
    },
    "id": "LeDquW4QrydY",
    "outputId": "690205a5-cbdc-4f79-bf7c-53af9faa85ea"
   },
   "outputs": [
    {
     "data": {
      "text/plain": [
       "Ttest_indResult(statistic=0.3543859926935721, pvalue=0.7250087342342335)"
      ]
     },
     "execution_count": 9,
     "metadata": {},
     "output_type": "execute_result"
    }
   ],
   "source": [
    "# Specifying variables\n",
    "sample1 = [1.48, 1.75, 0.78, 2.85, 0.52, 1.60, 4.15, 3.97, 1.48, 3.10, 1.02, 0.53, 0.93, 1.60, 0.80, \n",
    "           1.05, 6.32, 3.93, 5.45, 0.97]\n",
    "sample2 = [7.55, 3.75, 0.10, 1.10, 0.60, 0.52, 3.30, 2.10, 0.58, 4.02, 3.75, 0.65, 1.92, 0.60, 1.53,\n",
    "           4.23, 0.08, 1.48, 1.65, 0.72]\n",
    "# p value assuming equal varaince\n",
    "stats.ttest_ind(sample1, sample2, equal_var=True)\n"
   ]
  },
  {
   "cell_type": "markdown",
   "metadata": {
    "id": "2trfldHr5MuP"
   },
   "source": [
    "link\n",
    "\n",
    "https://aegis4048.github.io/comprehensive_confidence_intervals_for_python_developers\n",
    "Question 2 Interpretation\n",
    "\n",
    "The p value is greater than the significance level\n",
    "The result is not significant\n",
    "There is no sufficient evidence of a difference in the mean waiting time between the two offices\n",
    "Question 3 assumption\n",
    "\n",
    "The data distribution is normal\n",
    "Question 4 construct and interpret 95% confidence level"
   ]
  },
  {
   "cell_type": "code",
   "execution_count": null,
   "metadata": {
    "colab": {
     "base_uri": "https://localhost:8080/"
    },
    "id": "UK9v3F_P5Pv2",
    "outputId": "7d0d7a90-095c-42dc-a71d-2cc6c82e7435"
   },
   "outputs": [
    {
     "name": "stdout",
     "output_type": "stream",
     "text": [
      "lower limit -0.897336198599685 and upper limit 1.3023361985996862\n"
     ]
    }
   ],
   "source": [
    "# Specifying variables\n",
    "sample1 = [1.48, 1.75, 0.78, 2.85, 0.52, 1.60, 4.15, 3.97, 1.48, 3.10, 1.02, 0.53, 0.93, 1.60, 0.80, \n",
    "           1.05, 6.32, 3.93, 5.45, 0.97]\n",
    "sample2 = [7.55, 3.75, 0.10, 1.10, 0.60, 0.52, 3.30, 2.10, 0.58, 4.02, 3.75, 0.65, 1.92, 0.60, 1.53,\n",
    "           4.23, 0.08, 1.48, 1.65, 0.72]\n",
    "\n",
    "# significance level = 5%\n",
    "alpha = 0.05 \n",
    "# sample sizes                                                  \n",
    "n1, n2 = len(sample1), len(sample2)  \n",
    "# pooled standard deviation                                \n",
    "s1, s2 = np.var(sample1, ddof=1), np.var(sample1, ddof=1)  \n",
    "# sample variances\n",
    "s = np.sqrt(((n1 - 1) * s1 + (n2 - 1) * s2) / (n1 + n2 - 2)) \n",
    "# degrees of freedom\n",
    "df = n1 + n2 - 2 \n",
    "# t-critical value for 95% CI                                            \n",
    "t = stats.t.ppf(1 - alpha/2, df)                             \n",
    "\n",
    "lower = (np.mean(sample1) - np.mean(sample2)) - t * np.sqrt(1 / len(sample1) + 1 / len(sample2)) * s\n",
    "upper = (np.mean(sample1) - np.mean(sample2)) + t * np.sqrt(1 / len(sample1) + 1 / len(sample2)) * s\n",
    "\n",
    "print(f'lower limit {lower} and upper limit {upper}')"
   ]
  },
  {
   "cell_type": "markdown",
   "metadata": {
    "id": "bJACLM_aPxgh"
   },
   "source": [
    "## Question 6"
   ]
  },
  {
   "cell_type": "markdown",
   "metadata": {
    "id": "b0reIjDDrIWX"
   },
   "source": [
    "A bank with a branch located in a commercial district of a city has the business objective of developing an improved process for serving customers during the noon-to-1 p.m. lunch period. Management decides to first study the waiting time in the current process. The waiting time is defined as the number of minutes that elapses from when the customer enters the line until he or she reaches the teller window. Data are collected from a random sample of 15 customers and stored in Bank1. \n",
    "\n",
    "These data are:\n",
    "4.21 5.55 3.02 5.13 4.77 2.34 3.54 3.20 4.50 6.10 0.38 5.12 6.46 6.19 3.79\n",
    "\n",
    "Suppose that another branch, located in a residential area, is also concerned with improving the process of serving customers in the noon-to-1 p.m. lunch period. Data are collected from a random sample of 15 customers and stored in Bank2. \n",
    "\n",
    "These data are:\n",
    "9.66 5.90 8.02 5.79 8.73 3.82 8.01 8.35 10.49 6.68 5.64 4.08 6.17 9.91 5.47\n",
    "\n",
    "\n",
    "1. Assuming that the population variances from both banks are equal, is there evidence of a difference in the mean waiting time between the two branches? (Use a = 0.05.)\n",
    "2. Determine the p-value in (a) and interpret its meaning.\n",
    "3. In addition to equal variances, what other assumption is neces-\n",
    "sary in (a)?\n",
    "4. Construct and interpret a 95% confidence interval estimate\n",
    "of the difference between the population means in the two branches.\n",
    "\n",
    "Determination of and p value"
   ]
  },
  {
   "cell_type": "code",
   "execution_count": null,
   "metadata": {
    "colab": {
     "base_uri": "https://localhost:8080/"
    },
    "id": "wu5rk7fNPy6J",
    "outputId": "84a8cac3-aad4-4af2-9e7f-120d127f2a1a"
   },
   "outputs": [
    {
     "data": {
      "text/plain": [
       "(-4.1343062768616825, 0.00029283923510711144)"
      ]
     },
     "execution_count": 11,
     "metadata": {},
     "output_type": "execute_result"
    }
   ],
   "source": [
    "data1 = [4.21, 5.55, 3.02, 5.13, 4.77, 2.34, 3.54, 3.20, 4.50, \n",
    "         6.10, 0.38, 5.12, 6.46, 6.19, 3.79]\n",
    "data2 = [9.66, 5.90, 8.02, 5.79, 8.73, 3.82, 8.01, 8.35, 10.49, \n",
    "         6.68, 5.64, 4.08, 6.17, 9.91, 5.47]\n",
    "\n",
    "# p value and t_statistic assuming equal varaince\n",
    "t_statistics, p_value = stats.ttest_ind(data1, data2, equal_var=True)\n",
    "(t_statistics, p_value)"
   ]
  },
  {
   "cell_type": "markdown",
   "metadata": {
    "id": "xydZto0A5m6F"
   },
   "source": [
    "Interpratation of p_value\n",
    "\n",
    "The p value is less than the significance level of 0.05\n",
    "This implies that the result is significant\n",
    "Hence it can be concluded that there is evidence of a difference in the mean waiting time between the two branches\n",
    "Additional assumption\n",
    "\n",
    "The data follows a normal distribution\n",
    "*Construct confidence interval estimate *"
   ]
  },
  {
   "cell_type": "code",
   "execution_count": null,
   "metadata": {
    "colab": {
     "base_uri": "https://localhost:8080/"
    },
    "id": "VHteV-ku5oqt",
    "outputId": "11a29726-bf85-45b3-f89c-db2cc77b03b1"
   },
   "outputs": [
    {
     "name": "stdout",
     "output_type": "stream",
     "text": [
      "lower limit -4.053167874667102 and upper limit -1.6028321253328968\n"
     ]
    }
   ],
   "source": [
    "# significance level = 5%\n",
    "alpha = 0.05 \n",
    "# sample sizes                                                  \n",
    "n1, n2 = len(data1), len(data2)  \n",
    "# pooled standard deviation                                \n",
    "s1, s2 = np.var(data1, ddof=1), np.var(data1, ddof=1)  \n",
    "# sample variances\n",
    "s = np.sqrt(((n1 - 1) * s1 + (n2 - 1) * s2) / (n1 + n2 - 2)) \n",
    "# degrees of freedom\n",
    "df = n1 + n2 - 2 \n",
    "# t-critical value for 95% CI                                            \n",
    "t = stats.t.ppf(1 - alpha/2, df)                             \n",
    "\n",
    "lower = (np.mean(data1) - np.mean(data2)) - t * np.sqrt(1 / len(data1) + 1 / len(data2)) * s\n",
    "upper = (np.mean(data1) - np.mean(data2)) + t * np.sqrt(1 / len(data1) + 1 / len(data2)) * s\n",
    "\n",
    "print(f'lower limit {lower} and upper limit {upper}')"
   ]
  }
 ],
 "metadata": {
  "colab": {
   "collapsed_sections": [
    "GBzjNgPqPkUQ",
    "0MlbMO7mPoO8",
    "yGGq-E5IPrqz",
    "pI5iuOyWPtiy",
    "bJACLM_aPxgh"
   ],
   "name": "Python Programming: P-values Exercise",
   "provenance": []
  },
  "kernelspec": {
   "display_name": "Python 3 (ipykernel)",
   "language": "python",
   "name": "python3"
  },
  "language_info": {
   "codemirror_mode": {
    "name": "ipython",
    "version": 3
   },
   "file_extension": ".py",
   "mimetype": "text/x-python",
   "name": "python",
   "nbconvert_exporter": "python",
   "pygments_lexer": "ipython3",
   "version": "3.8.8"
  }
 },
 "nbformat": 4,
 "nbformat_minor": 1
}
